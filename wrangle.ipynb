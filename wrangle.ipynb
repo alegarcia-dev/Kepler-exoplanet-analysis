{
 "cells": [
  {
   "cell_type": "markdown",
   "id": "eff17336-d3d3-4f09-8516-a1c98bd262db",
   "metadata": {},
   "source": [
    "# Wrangle (Acquire and Prepare)\n",
    "\n",
    "This notebook contains all steps and decisions in the data acquisition and data preparation phases of the pipeline.\n",
    "\n",
    "## The Required Modules\n",
    "\n",
    "Below are all the modules needed to run the code cells in this notebook."
   ]
  },
  {
   "cell_type": "code",
   "execution_count": 1,
   "id": "60f3efb1-c279-401f-ad0c-5dfa8baf13d6",
   "metadata": {},
   "outputs": [],
   "source": [
    "import pandas as pd"
   ]
  },
  {
   "cell_type": "markdown",
   "id": "2c733859-b797-4561-b677-a8b8286da1e7",
   "metadata": {},
   "source": [
    "## Data Acquisition\n",
    "\n",
    "### Download With Kaggle API\n",
    "\n",
    "The next cell will download the data using the kaggle API. The downloaded file will be a .zip file. We will need to unzip the file and then we can read the .csv file into a pandas dataframe.\n",
    "\n",
    "This of course assumes that the Kaggle API is installed on the local machine. For instructions on downloading the data without the Kaggle API skip ahead to the \"Download Without Kaggle API\" section. Otherwise, if the Kaggle API is not installed, follow the instructions outlined in the Kaggle API repository README [here](https://github.com/Kaggle/kaggle-api) or follow the steps below:\n",
    "- On the command line run \n",
    "\n",
    "```bash\n",
    "    pip install kaggle\n",
    "```\n",
    "\n",
    "- Login to Kaggle, go to Your Profile -> Account -> API click \"Create New API Token\"\n",
    "- Move the downloaded kaggle.json file to ~/.kaggle/kaggle.json, \n",
    "\n",
    "```bash\n",
    "    mv ~/Downloads/kaggle.json ~/.kaggle/kaggle.json\n",
    "```\n",
    "\n",
    "- On the command line run \n",
    "\n",
    "```bash\n",
    "    chmod 600 ~/.kaggle/kaggle.json\n",
    "```\n",
    "\n",
    "Now we can run the commands below to download the data."
   ]
  },
  {
   "cell_type": "code",
   "execution_count": 2,
   "id": "a0ac12be-bc5b-4df1-bbfe-2f432496e40c",
   "metadata": {},
   "outputs": [
    {
     "name": "stdout",
     "output_type": "stream",
     "text": [
      "Downloading cumulative.csv.zip to /Users/peanutbutterandchocolate/Repositories/kepler-exoplanet-analysis\n",
      " 86%|████████████████████████████████▊     | 1.00M/1.16M [00:00<00:00, 6.39MB/s]\n",
      "100%|██████████████████████████████████████| 1.16M/1.16M [00:00<00:00, 7.15MB/s]\n",
      "Archive:  cumulative.csv.zip\n",
      "  inflating: cumulative.csv          \n"
     ]
    }
   ],
   "source": [
    "# Download the source data, unzip the downloaded file, and remove the zip file.\n",
    "\n",
    "!kaggle datasets download nasa/kepler-exoplanet-search-results -f cumulative.csv\n",
    "!unzip cumulative.csv.zip\n",
    "!rm cumulative.csv.zip"
   ]
  },
  {
   "cell_type": "code",
   "execution_count": 3,
   "id": "582f043c-222e-4724-8d00-1237ca3b9085",
   "metadata": {},
   "outputs": [
    {
     "name": "stdout",
     "output_type": "stream",
     "text": [
      "<class 'pandas.core.frame.DataFrame'>\n",
      "RangeIndex: 9564 entries, 0 to 9563\n",
      "Data columns (total 50 columns):\n",
      " #   Column             Non-Null Count  Dtype  \n",
      "---  ------             --------------  -----  \n",
      " 0   rowid              9564 non-null   int64  \n",
      " 1   kepid              9564 non-null   int64  \n",
      " 2   kepoi_name         9564 non-null   object \n",
      " 3   kepler_name        2294 non-null   object \n",
      " 4   koi_disposition    9564 non-null   object \n",
      " 5   koi_pdisposition   9564 non-null   object \n",
      " 6   koi_score          8054 non-null   float64\n",
      " 7   koi_fpflag_nt      9564 non-null   int64  \n",
      " 8   koi_fpflag_ss      9564 non-null   int64  \n",
      " 9   koi_fpflag_co      9564 non-null   int64  \n",
      " 10  koi_fpflag_ec      9564 non-null   int64  \n",
      " 11  koi_period         9564 non-null   float64\n",
      " 12  koi_period_err1    9110 non-null   float64\n",
      " 13  koi_period_err2    9110 non-null   float64\n",
      " 14  koi_time0bk        9564 non-null   float64\n",
      " 15  koi_time0bk_err1   9110 non-null   float64\n",
      " 16  koi_time0bk_err2   9110 non-null   float64\n",
      " 17  koi_impact         9201 non-null   float64\n",
      " 18  koi_impact_err1    9110 non-null   float64\n",
      " 19  koi_impact_err2    9110 non-null   float64\n",
      " 20  koi_duration       9564 non-null   float64\n",
      " 21  koi_duration_err1  9110 non-null   float64\n",
      " 22  koi_duration_err2  9110 non-null   float64\n",
      " 23  koi_depth          9201 non-null   float64\n",
      " 24  koi_depth_err1     9110 non-null   float64\n",
      " 25  koi_depth_err2     9110 non-null   float64\n",
      " 26  koi_prad           9201 non-null   float64\n",
      " 27  koi_prad_err1      9201 non-null   float64\n",
      " 28  koi_prad_err2      9201 non-null   float64\n",
      " 29  koi_teq            9201 non-null   float64\n",
      " 30  koi_teq_err1       0 non-null      float64\n",
      " 31  koi_teq_err2       0 non-null      float64\n",
      " 32  koi_insol          9243 non-null   float64\n",
      " 33  koi_insol_err1     9243 non-null   float64\n",
      " 34  koi_insol_err2     9243 non-null   float64\n",
      " 35  koi_model_snr      9201 non-null   float64\n",
      " 36  koi_tce_plnt_num   9218 non-null   float64\n",
      " 37  koi_tce_delivname  9218 non-null   object \n",
      " 38  koi_steff          9201 non-null   float64\n",
      " 39  koi_steff_err1     9096 non-null   float64\n",
      " 40  koi_steff_err2     9081 non-null   float64\n",
      " 41  koi_slogg          9201 non-null   float64\n",
      " 42  koi_slogg_err1     9096 non-null   float64\n",
      " 43  koi_slogg_err2     9096 non-null   float64\n",
      " 44  koi_srad           9201 non-null   float64\n",
      " 45  koi_srad_err1      9096 non-null   float64\n",
      " 46  koi_srad_err2      9096 non-null   float64\n",
      " 47  ra                 9564 non-null   float64\n",
      " 48  dec                9564 non-null   float64\n",
      " 49  koi_kepmag         9563 non-null   float64\n",
      "dtypes: float64(39), int64(6), object(5)\n",
      "memory usage: 3.6+ MB\n"
     ]
    }
   ],
   "source": [
    "kepler = pd.read_csv('cumulative.csv')\n",
    "kepler.info()"
   ]
  },
  {
   "cell_type": "markdown",
   "id": "4b080c0d-a713-417a-8362-51e8a2e32ade",
   "metadata": {},
   "source": [
    "Now we have our exoplanet data and we can already see that some cleaning is needed. We'll discuss this more in the preparation section."
   ]
  },
  {
   "cell_type": "markdown",
   "id": "76deaebb-e99e-45d9-a569-74a22117b8ac",
   "metadata": {},
   "source": [
    "### Download Without Kaggle API\n",
    "\n",
    "For reproducibility we must consider that some people may not have the Kaggle API installed and may not want to install and set it up. So let's go through the steps of downloading the data without the Kaggle API.\n",
    "\n",
    "<b><i>Pending:\n",
    "    Include here either instructions for downloading the data, or find a way to automate the process. Ideally the process will be automated, but if it proves too cumbersome then it may have to be expected that the data is manually downloaded.</i></b>"
   ]
  },
  {
   "cell_type": "markdown",
   "id": "a77de074-7fb1-4e30-9485-15c6e1db3b6e",
   "metadata": {},
   "source": [
    "### Automate The Download Procedure\n",
    "\n",
    "Now let's automate the acquisition procedure for ease of use."
   ]
  },
  {
   "cell_type": "code",
   "execution_count": 9,
   "id": "26264f32-6c1f-4d50-9d0a-8829ed32b282",
   "metadata": {},
   "outputs": [],
   "source": [
    "# We'll need a way to run the kaggle api commands with python. We can use the os module for this.\n",
    "\n",
    "import os"
   ]
  },
  {
   "cell_type": "code",
   "execution_count": 5,
   "id": "d7c7a2cd-4cbb-4262-b1fe-cd0dabeca6cd",
   "metadata": {},
   "outputs": [],
   "source": [
    "# # This cell can be executed to remove the existing cumulative.csv file.\n",
    "# !rm cumulative.csv"
   ]
  },
  {
   "cell_type": "code",
   "execution_count": 6,
   "id": "655a2f77-c67c-4df1-a99d-c1290f9a430c",
   "metadata": {},
   "outputs": [
    {
     "name": "stderr",
     "output_type": "stream",
     "text": [
      "100%|██████████| 1.16M/1.16M [00:00<00:00, 8.87MB/s]\n"
     ]
    },
    {
     "name": "stdout",
     "output_type": "stream",
     "text": [
      "Downloading cumulative.csv.zip to /Users/whoami/Repositories/kepler-exoplanet-analysis\n",
      "\n",
      "Archive:  cumulative.csv.zip\n",
      "  inflating: cumulative.csv          \n",
      "<class 'pandas.core.frame.DataFrame'>\n",
      "RangeIndex: 9564 entries, 0 to 9563\n",
      "Data columns (total 50 columns):\n",
      " #   Column             Non-Null Count  Dtype  \n",
      "---  ------             --------------  -----  \n",
      " 0   rowid              9564 non-null   int64  \n",
      " 1   kepid              9564 non-null   int64  \n",
      " 2   kepoi_name         9564 non-null   object \n",
      " 3   kepler_name        2294 non-null   object \n",
      " 4   koi_disposition    9564 non-null   object \n",
      " 5   koi_pdisposition   9564 non-null   object \n",
      " 6   koi_score          8054 non-null   float64\n",
      " 7   koi_fpflag_nt      9564 non-null   int64  \n",
      " 8   koi_fpflag_ss      9564 non-null   int64  \n",
      " 9   koi_fpflag_co      9564 non-null   int64  \n",
      " 10  koi_fpflag_ec      9564 non-null   int64  \n",
      " 11  koi_period         9564 non-null   float64\n",
      " 12  koi_period_err1    9110 non-null   float64\n",
      " 13  koi_period_err2    9110 non-null   float64\n",
      " 14  koi_time0bk        9564 non-null   float64\n",
      " 15  koi_time0bk_err1   9110 non-null   float64\n",
      " 16  koi_time0bk_err2   9110 non-null   float64\n",
      " 17  koi_impact         9201 non-null   float64\n",
      " 18  koi_impact_err1    9110 non-null   float64\n",
      " 19  koi_impact_err2    9110 non-null   float64\n",
      " 20  koi_duration       9564 non-null   float64\n",
      " 21  koi_duration_err1  9110 non-null   float64\n",
      " 22  koi_duration_err2  9110 non-null   float64\n",
      " 23  koi_depth          9201 non-null   float64\n",
      " 24  koi_depth_err1     9110 non-null   float64\n",
      " 25  koi_depth_err2     9110 non-null   float64\n",
      " 26  koi_prad           9201 non-null   float64\n",
      " 27  koi_prad_err1      9201 non-null   float64\n",
      " 28  koi_prad_err2      9201 non-null   float64\n",
      " 29  koi_teq            9201 non-null   float64\n",
      " 30  koi_teq_err1       0 non-null      float64\n",
      " 31  koi_teq_err2       0 non-null      float64\n",
      " 32  koi_insol          9243 non-null   float64\n",
      " 33  koi_insol_err1     9243 non-null   float64\n",
      " 34  koi_insol_err2     9243 non-null   float64\n",
      " 35  koi_model_snr      9201 non-null   float64\n",
      " 36  koi_tce_plnt_num   9218 non-null   float64\n",
      " 37  koi_tce_delivname  9218 non-null   object \n",
      " 38  koi_steff          9201 non-null   float64\n",
      " 39  koi_steff_err1     9096 non-null   float64\n",
      " 40  koi_steff_err2     9081 non-null   float64\n",
      " 41  koi_slogg          9201 non-null   float64\n",
      " 42  koi_slogg_err1     9096 non-null   float64\n",
      " 43  koi_slogg_err2     9096 non-null   float64\n",
      " 44  koi_srad           9201 non-null   float64\n",
      " 45  koi_srad_err1      9096 non-null   float64\n",
      " 46  koi_srad_err2      9096 non-null   float64\n",
      " 47  ra                 9564 non-null   float64\n",
      " 48  dec                9564 non-null   float64\n",
      " 49  koi_kepmag         9563 non-null   float64\n",
      "dtypes: float64(39), int64(6), object(5)\n",
      "memory usage: 3.6+ MB\n"
     ]
    }
   ],
   "source": [
    "# This code will download the kepler data, unzip the file, remove the zip file, and read the data into a dataframe\n",
    "\n",
    "# os.system('kaggle datasets download nasa/kepler-exoplanet-search-results -f cumulative.csv')\n",
    "# os.system('unzip cumulative.csv.zip')\n",
    "# os.system('rm cumulative.csv.zip')\n",
    "# kepler = pd.read_csv('cumulative.csv')\n",
    "# kepler.info()"
   ]
  },
  {
   "cell_type": "markdown",
   "id": "915fe35c-7bee-4c6e-9311-6bf22f5b1fec",
   "metadata": {},
   "source": [
    "That works, but what if the Kaggle API is not installed. How will we ensure that the proper error message is raised."
   ]
  },
  {
   "cell_type": "code",
   "execution_count": 25,
   "id": "2f93ea1e-5398-4ad3-ba9b-a4f5b3e4f179",
   "metadata": {},
   "outputs": [
    {
     "name": "stderr",
     "output_type": "stream",
     "text": [
      "sh: invalid: command not found\n"
     ]
    },
    {
     "ename": "SystemError",
     "evalue": "\n        An error occurred when running \"kaggle datasets download\".\n        You must either follow the instructions for installing the Kaggle API\n        here https://github.com/Kaggle/kaggle-api or manually download the \n        data from here https://exoplanetarchive.ipac.caltech.edu/docs/data.html\n    ",
     "output_type": "error",
     "traceback": [
      "\u001b[0;31m---------------------------------------------------------------------------\u001b[0m",
      "\u001b[0;31mSystemError\u001b[0m                               Traceback (most recent call last)",
      "\u001b[0;32m/var/folders/95/v52kk6ys7s14hmmc3xm7b1xr0000gn/T/ipykernel_951/457148650.py\u001b[0m in \u001b[0;36m<module>\u001b[0;34m\u001b[0m\n\u001b[1;32m      4\u001b[0m \u001b[0moutput\u001b[0m \u001b[0;34m=\u001b[0m \u001b[0mos\u001b[0m\u001b[0;34m.\u001b[0m\u001b[0msystem\u001b[0m\u001b[0;34m(\u001b[0m\u001b[0;34m'invalid command'\u001b[0m\u001b[0;34m)\u001b[0m\u001b[0;34m\u001b[0m\u001b[0;34m\u001b[0m\u001b[0m\n\u001b[1;32m      5\u001b[0m \u001b[0;32mif\u001b[0m \u001b[0moutput\u001b[0m \u001b[0;34m!=\u001b[0m \u001b[0;36m0\u001b[0m\u001b[0;34m:\u001b[0m\u001b[0;34m\u001b[0m\u001b[0;34m\u001b[0m\u001b[0m\n\u001b[0;32m----> 6\u001b[0;31m     raise SystemError('''\n\u001b[0m\u001b[1;32m      7\u001b[0m         \u001b[0mAn\u001b[0m \u001b[0merror\u001b[0m \u001b[0moccurred\u001b[0m \u001b[0mwhen\u001b[0m \u001b[0mrunning\u001b[0m \u001b[0;34m\"kaggle datasets download\"\u001b[0m\u001b[0;34m.\u001b[0m\u001b[0;34m\u001b[0m\u001b[0;34m\u001b[0m\u001b[0m\n\u001b[1;32m      8\u001b[0m         \u001b[0mYou\u001b[0m \u001b[0mmust\u001b[0m \u001b[0meither\u001b[0m \u001b[0mfollow\u001b[0m \u001b[0mthe\u001b[0m \u001b[0minstructions\u001b[0m \u001b[0;32mfor\u001b[0m \u001b[0minstalling\u001b[0m \u001b[0mthe\u001b[0m \u001b[0mKaggle\u001b[0m \u001b[0mAPI\u001b[0m\u001b[0;34m\u001b[0m\u001b[0;34m\u001b[0m\u001b[0m\n",
      "\u001b[0;31mSystemError\u001b[0m: \n        An error occurred when running \"kaggle datasets download\".\n        You must either follow the instructions for installing the Kaggle API\n        here https://github.com/Kaggle/kaggle-api or manually download the \n        data from here https://exoplanetarchive.ipac.caltech.edu/docs/data.html\n    "
     ]
    }
   ],
   "source": [
    "# os.system will return 0 if the command was successful. We will need to check if the return value was 0,\n",
    "# and otherwise raise an exception.\n",
    "\n",
    "output = os.system('invalid command')\n",
    "if output != 0:\n",
    "    raise SystemError('''\n",
    "        An error occurred when running \"kaggle datasets download\".\n",
    "        You must either follow the instructions for installing the Kaggle API\n",
    "        here https://github.com/Kaggle/kaggle-api or manually download the \n",
    "        data from here https://exoplanetarchive.ipac.caltech.edu/docs/data.html\n",
    "    ''')"
   ]
  },
  {
   "cell_type": "code",
   "execution_count": 28,
   "id": "64319651-f230-4fb3-962f-591d7b010c08",
   "metadata": {},
   "outputs": [
    {
     "name": "stdout",
     "output_type": "stream",
     "text": [
      "hello\n"
     ]
    }
   ],
   "source": [
    "# and if we use a valid command ...\n",
    "\n",
    "output = os.system('echo hello')\n",
    "if output != 0:\n",
    "    raise SystemError('''\n",
    "        An error occurred when running \"kaggle datasets download\".\n",
    "        You must either follow the instructions for installing the Kaggle API\n",
    "        here https://github.com/Kaggle/kaggle-api or manually download the \n",
    "        data from here https://exoplanetarchive.ipac.caltech.edu/docs/data.html\n",
    "    ''')"
   ]
  },
  {
   "cell_type": "markdown",
   "id": "ce6f7a76-e1e9-4206-abef-b674267be9ba",
   "metadata": {},
   "source": [
    "Now let's use the Acquire class to wrap the acquisition process into it's own object for ease of use."
   ]
  },
  {
   "cell_type": "code",
   "execution_count": 4,
   "id": "a60be956-2977-4e95-a509-86674dd23161",
   "metadata": {},
   "outputs": [],
   "source": [
    "from acquire import Acquire"
   ]
  },
  {
   "cell_type": "code",
   "execution_count": 6,
   "id": "a56e53e7-8571-4c38-b1ed-ef6358a8b32d",
   "metadata": {},
   "outputs": [],
   "source": [
    "# # This cell can be executed to remove the existing cumulative.csv file.\n",
    "# !rm cumulative.csv"
   ]
  },
  {
   "cell_type": "code",
   "execution_count": 7,
   "id": "749497dd-16cc-4923-a200-dc1cf4d8ba05",
   "metadata": {},
   "outputs": [],
   "source": [
    "# This class will allow us to easily acquire the data from wherever we need it.\n",
    "\n",
    "class AcquireKeplerData(Acquire):\n",
    "    # The Acquire class handles most of the work for us. We only need to override the\n",
    "    # read_from_source method.\n",
    "    def read_from_source(self):\n",
    "        shell_output = os.system('kaggle datasets download nasa/kepler-exoplanet-search-results -f cumulative.csv')\n",
    "        if shell_output != 0:\n",
    "            raise SystemError('''\n",
    "                An error occurred when running \"kaggle datasets download\".\n",
    "                You must either follow the instructions for installing the Kaggle API\n",
    "                here https://github.com/Kaggle/kaggle-api or manually download the \n",
    "                data from here https://exoplanetarchive.ipac.caltech.edu/docs/data.html\n",
    "            ''')\n",
    "        \n",
    "        os.system('unzip cumulative.csv.zip')\n",
    "        os.system('rm cumulative.csv.zip')\n",
    "        df = pd.read_csv('cumulative.csv')\n",
    "        os.system('rm cumulative.csv')\n",
    "        \n",
    "        return df"
   ]
  },
  {
   "cell_type": "code",
   "execution_count": 10,
   "id": "342471d2-832d-4d6a-99c1-724152710078",
   "metadata": {},
   "outputs": [
    {
     "name": "stderr",
     "output_type": "stream",
     "text": [
      "100%|██████████| 1.16M/1.16M [00:00<00:00, 12.1MB/s]\n"
     ]
    },
    {
     "name": "stdout",
     "output_type": "stream",
     "text": [
      "Downloading cumulative.csv.zip to /Users/peanutbutterandchocolate/Repositories/kepler-exoplanet-analysis\n",
      "\n",
      "Archive:  cumulative.csv.zip\n",
      "  inflating: cumulative.csv          \n",
      "<class 'pandas.core.frame.DataFrame'>\n",
      "RangeIndex: 9564 entries, 0 to 9563\n",
      "Data columns (total 50 columns):\n",
      " #   Column             Non-Null Count  Dtype  \n",
      "---  ------             --------------  -----  \n",
      " 0   rowid              9564 non-null   int64  \n",
      " 1   kepid              9564 non-null   int64  \n",
      " 2   kepoi_name         9564 non-null   object \n",
      " 3   kepler_name        2294 non-null   object \n",
      " 4   koi_disposition    9564 non-null   object \n",
      " 5   koi_pdisposition   9564 non-null   object \n",
      " 6   koi_score          8054 non-null   float64\n",
      " 7   koi_fpflag_nt      9564 non-null   int64  \n",
      " 8   koi_fpflag_ss      9564 non-null   int64  \n",
      " 9   koi_fpflag_co      9564 non-null   int64  \n",
      " 10  koi_fpflag_ec      9564 non-null   int64  \n",
      " 11  koi_period         9564 non-null   float64\n",
      " 12  koi_period_err1    9110 non-null   float64\n",
      " 13  koi_period_err2    9110 non-null   float64\n",
      " 14  koi_time0bk        9564 non-null   float64\n",
      " 15  koi_time0bk_err1   9110 non-null   float64\n",
      " 16  koi_time0bk_err2   9110 non-null   float64\n",
      " 17  koi_impact         9201 non-null   float64\n",
      " 18  koi_impact_err1    9110 non-null   float64\n",
      " 19  koi_impact_err2    9110 non-null   float64\n",
      " 20  koi_duration       9564 non-null   float64\n",
      " 21  koi_duration_err1  9110 non-null   float64\n",
      " 22  koi_duration_err2  9110 non-null   float64\n",
      " 23  koi_depth          9201 non-null   float64\n",
      " 24  koi_depth_err1     9110 non-null   float64\n",
      " 25  koi_depth_err2     9110 non-null   float64\n",
      " 26  koi_prad           9201 non-null   float64\n",
      " 27  koi_prad_err1      9201 non-null   float64\n",
      " 28  koi_prad_err2      9201 non-null   float64\n",
      " 29  koi_teq            9201 non-null   float64\n",
      " 30  koi_teq_err1       0 non-null      float64\n",
      " 31  koi_teq_err2       0 non-null      float64\n",
      " 32  koi_insol          9243 non-null   float64\n",
      " 33  koi_insol_err1     9243 non-null   float64\n",
      " 34  koi_insol_err2     9243 non-null   float64\n",
      " 35  koi_model_snr      9201 non-null   float64\n",
      " 36  koi_tce_plnt_num   9218 non-null   float64\n",
      " 37  koi_tce_delivname  9218 non-null   object \n",
      " 38  koi_steff          9201 non-null   float64\n",
      " 39  koi_steff_err1     9096 non-null   float64\n",
      " 40  koi_steff_err2     9081 non-null   float64\n",
      " 41  koi_slogg          9201 non-null   float64\n",
      " 42  koi_slogg_err1     9096 non-null   float64\n",
      " 43  koi_slogg_err2     9096 non-null   float64\n",
      " 44  koi_srad           9201 non-null   float64\n",
      " 45  koi_srad_err1      9096 non-null   float64\n",
      " 46  koi_srad_err2      9096 non-null   float64\n",
      " 47  ra                 9564 non-null   float64\n",
      " 48  dec                9564 non-null   float64\n",
      " 49  koi_kepmag         9563 non-null   float64\n",
      "dtypes: float64(39), int64(6), object(5)\n",
      "memory usage: 3.6+ MB\n"
     ]
    }
   ],
   "source": [
    "# Let's test it.\n",
    "\n",
    "kepler = AcquireKeplerData('kepler.csv').get_data()\n",
    "kepler.info()"
   ]
  },
  {
   "cell_type": "markdown",
   "id": "05b39fe0-ecde-4c6e-8b0a-24cb534b117a",
   "metadata": {},
   "source": [
    "Now we can throw this code into it's own file to use in the final report or anywhere else it might be needed."
   ]
  },
  {
   "cell_type": "markdown",
   "id": "d6d8ac17-14ab-44e4-90aa-91598a7351d3",
   "metadata": {},
   "source": [
    "## Data Preparation"
   ]
  },
  {
   "cell_type": "code",
   "execution_count": null,
   "id": "739f4f88-3003-4030-98fc-079b200ab63e",
   "metadata": {},
   "outputs": [],
   "source": []
  }
 ],
 "metadata": {
  "kernelspec": {
   "display_name": "Python 3 (ipykernel)",
   "language": "python",
   "name": "python3"
  },
  "language_info": {
   "codemirror_mode": {
    "name": "ipython",
    "version": 3
   },
   "file_extension": ".py",
   "mimetype": "text/x-python",
   "name": "python",
   "nbconvert_exporter": "python",
   "pygments_lexer": "ipython3",
   "version": "3.9.7"
  }
 },
 "nbformat": 4,
 "nbformat_minor": 5
}

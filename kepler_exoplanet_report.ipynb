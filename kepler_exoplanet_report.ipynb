{
 "cells": [
  {
   "cell_type": "markdown",
   "id": "bb0faa6a-8d15-4825-9727-a041f6062c7d",
   "metadata": {
    "tags": []
   },
   "source": [
    "# Predicting Kepler Exoplanet Archive Disposition\n",
    "\n",
    "___\n",
    "\n",
    "By: Alejandro Garcia\n",
    "<br>\n",
    "Date: April 27, 2022\n",
    "\n",
    "___\n",
    "\n",
    "## Project Goals\n",
    "\n",
    "Identify drivers of the exoplanet archive disposition to determine which attributes are most likely to be predictive of the dispositions of confirmed exoplanet or false positive.\n",
    "\n",
    "___\n",
    "\n",
    "## Project Description\n",
    "\n",
    "The Kepler Space Observatory is a NASA-built telescope dedicated to searching for exoplanets in star systems besides our own, with the ultimate goal of possibly finding other habitable planets. The Kepler Space Observatory is retired as of October 30, 2018, but all the data it collected can be accessed from the NASA Exoplanet Archive [here](https://exoplanetarchive.ipac.caltech.edu/cgi-bin/TblView/nph-tblView?app=ExoTbls&config=cumulative), or from Kaggle [here](https://www.kaggle.com/datasets/nasa/kepler-exoplanet-search-results). Observations in the Kepler Object of Interest table were made using the transit method for identifying exoplanets in other star systems. The transit method involves measuring the light intensity of a host star over time and looking for periodic dips in light intensity which signify an object eclipsing the host star, which could potentially indicate the presence of an exoplanet.\n",
    "\n",
    "Identifying exoplanets can be a time consuming process particularly for planets with long orbital periods, such as planets that like the Earth may take upwards of a year to orbit their host star. With that in mind when candidate exoplanets are identified being able to prioritize the candidates that will most likely be confirmed can help to further the goal of identifying exoplanets. So we would like to determine which attributes are most indicative of a confirmed exoplanet disposition and similarly which attributes are most indicative of a false positive disposition. Finally, once these attributes are determined they will be used to produce a reusable machine learning model that can help predict which exoplanet candidates are most likely to be confirmed.\n",
    "\n",
    "As a data scientist with an interest in astronomy I aim to provide a means for determining which objects of interest will be most likely to result in newly discovered exoplanets. This way time is not lost observing objects that may end up not being exoplanets.\n",
    "\n",
    "___\n",
    "\n",
    "## Importing the Required Modules\n",
    "\n",
    "Everything we need to run the code blocks in this notebook are located in the top level directory. To run the code blocks in this report you will need numpy, pandas, matplotlib, seaborn, and sklearn installed on your computer. You will also need the Kaggle API installed. If you do not have the Kaggle API installed follow the instructions [here](https://github.com/Kaggle/kaggle-api) to install it."
   ]
  },
  {
   "cell_type": "code",
   "execution_count": 1,
   "id": "45fa69bf-bf39-446c-adee-ea6441ff1d9f",
   "metadata": {},
   "outputs": [],
   "source": [
    "# We would like to ignore any warnings that may be provided by our libraries.\n",
    "\n",
    "import warnings\n",
    "warnings.filterwarnings(\"ignore\")"
   ]
  },
  {
   "cell_type": "code",
   "execution_count": 2,
   "id": "ab21d780-37bf-4e86-bb8f-8aa5eed144ce",
   "metadata": {},
   "outputs": [],
   "source": [
    "# Here we are importing everything needed to execute the code blocks in this notebook.\n",
    "\n",
    "from wrangle import wrangle_kepler\n",
    "from explore import *\n",
    "from model import *\n",
    "from preprocessing import scale_data\n",
    "from evaluate import append_results, evaluate"
   ]
  },
  {
   "cell_type": "markdown",
   "id": "2e2caa43-3e33-457d-a6f4-126aa6791454",
   "metadata": {},
   "source": [
    "---\n",
    "\n",
    "## Data Acquisition and Preparation\n",
    "\n",
    "The data is acquired from Kaggle using the Kaggle API. This requires an API key. Alternatively, the .csv file can be downloaded manually from Kaggle.\n",
    "\n",
    "**Missing Values:**\n",
    "The raw data contains some missing values. A few columns are nearly empty upon loading the raw data. Columns with a large percentage of missing values are dropped. Then any rows still missing values are dropped. This leaves 94% of the original columns and 82% of the observations remaining.\n",
    "\n",
    "**Removing Observations That Don't Fit the Project Goals:**\n",
    "The target variable (disposition / koi_disposition) has three unique values: FALSE POSITIVE, CONFIRMED, and CANDIDATE. Any observations with a disposition of CANDIDATE are removed since these observations do not fit into the scope of this project. This leaves 63% of the original observations remaining.\n",
    "\n",
    "These candidate observations are observations that have been marked as potential exoplanets, but enough analysis to determine the observation as a confirmed exoplanet, or not, has not been conducted. The final target value of an observation is either CONFIRMED, meaning the observation was in fact an exoplanet, or FALSE POSITIVE, meaning the observation was not an exoplanet. This project is only concerned with observations that have been given their final target value so the candidate observations are of no concern to us.\n",
    "\n",
    "**Renaming Columns:**\n",
    "Lastly, a few of the columns are renamed for readability. Only those columns that we move forward into modeling with are renamed since there are initially a large number of columns."
   ]
  },
  {
   "cell_type": "code",
   "execution_count": 3,
   "id": "03382afb-28b7-4f21-9e97-0c9e432cb166",
   "metadata": {},
   "outputs": [],
   "source": [
    "# All the code needed to acquire and prepare the data is abstracted into a wrangle function for ease of use.\n",
    "# For details on how the data is acquired and prepared refer to the acquire.py and prepare.py files or the \n",
    "# wrangle.ipynb notebook.\n",
    "\n",
    "# Here we will acquire, prepare, and split the data.\n",
    "\n",
    "train, validate, test = wrangle_kepler()\n",
    "\n",
    "# We will need scaled data in modeling so here we will scale the data.\n",
    "\n",
    "train_scaled, validate_scaled, test_scaled = scale_data(\n",
    "    train,\n",
    "    validate,\n",
    "    test,\n",
    "    train.drop(columns = 'disposition').columns\n",
    ")"
   ]
  },
  {
   "cell_type": "markdown",
   "id": "55e66f21-13d9-4161-9dbb-a954f2228691",
   "metadata": {},
   "source": [
    "---\n",
    "\n",
    "## Exploratory Analysis\n",
    "\n",
    "With the data prepared we can begin exploring the data to identify which attributes are most closely related to the exoplanet archive disposition\n",
    "\n",
    "In the visualizations below we aim to answer some questions about the data. Details about how these visualization are created can be found in the explore.py file.\n",
    "\n",
    "**Important Note:**\n",
    "Some features in the data were discovered to leak information about the exoplanet disposition. These assumptions were verified in exploration and the details can be found in the explore.ipynb notebook. These features were not used in further exploration or modeling in order to ensure that the models produced are robust to newly obtained observations.\n",
    "\n",
    "### Is there a significant difference in orbital period between false positives and confirmed exoplanets?"
   ]
  },
  {
   "cell_type": "code",
   "execution_count": 4,
   "id": "86b8a815-6f3b-48ce-8a43-9e9fd0252f26",
   "metadata": {},
   "outputs": [
    {
     "data": {
      "image/png": "[encoded data removed]",
      "text/plain": [
       "<Figure size 1008x288 with 1 Axes>"
      ]
     },
     "metadata": {
      "needs_background": "light"
     },
     "output_type": "display_data"
    }
   ],
   "source": [
    "# Here we will plot the average orbital periods for false positive observations and confirmed exoplanet observations.\n",
    "# Details can be found in explore.py.\n",
    "\n",
    "plot_orbital_period(train)"
   ]
  },
  {
   "cell_type": "markdown",
   "id": "27867968-0bbe-428a-8687-45cd05a09e68",
   "metadata": {},
   "source": [
    "We see here that confirmed exoplanets on average have longer orbital periods than false positive observations. My best guess is that this is due to binary star systems, which do often orbit very rapidly, being falsely identified as candidate exoplanets.\n",
    "\n",
    "Let's now confirm this finding with a statistical test. Here we will perform a two sample t-test where the two samples are false positive observations and confirmed exoplanet observations. We will test to determine if the average orbital period between the two groups is significantly different. The hypothesis we'll be testing is the following:\n",
    "\n",
    "$H_0$: The average orbital period for false positives is equal to the average orbital period for confirmed exoplanets.\n",
    "<br>\n",
    "$H_a$: The average orbital period for false positives is not equal to the average orbital period for confirmed exoplanets."
   ]
  },
  {
   "cell_type": "code",
   "execution_count": 5,
   "id": "2be08a3b-6362-4bbe-a367-3f1296e2d93d",
   "metadata": {},
   "outputs": [
    {
     "name": "stdout",
     "output_type": "stream",
     "text": [
      "Reject H0\n"
     ]
    }
   ],
   "source": [
    "# Here we conduct a two sample t-test between the orbital period for each sample.\n",
    "# Details can be found in explore.py or explore.ipynb.\n",
    "\n",
    "# We'll be using these masks to separate the false positives and confirmed exoplanets for all stats tests\n",
    "# going forward.\n",
    "\n",
    "false_positives = train.disposition == 'FALSE POSITIVE'\n",
    "confirmed = train.disposition == 'CONFIRMED'\n",
    "\n",
    "two_sample_ttest(train[false_positives], train[confirmed], feature = 'orbital_period')"
   ]
  },
  {
   "cell_type": "markdown",
   "id": "fb31079e-f2a2-4ad6-80c7-e0ba736e7179",
   "metadata": {},
   "source": [
    "The result is that we reject the null hypothesis indicating that there is a significant difference in orbital period between false positive observations and confirmed exoplanets.\n",
    "\n",
    "### Do observations with a false positive disposition have a greater planetary radius than confirmed exoplanets?"
   ]
  },
  {
   "cell_type": "code",
   "execution_count": 6,
   "id": "3878ef59-c49f-4130-b5fc-592cf7727aec",
   "metadata": {},
   "outputs": [
    {
     "data": {
      "image/png": "[encoded data removed]",
      "text/plain": [
       "<Figure size 1008x288 with 1 Axes>"
      ]
     },
     "metadata": {
      "needs_background": "light"
     },
     "output_type": "display_data"
    }
   ],
   "source": [
    "# Here we will plot the average planetary radius for false positive observations and confirmed exoplanet observations.\n",
    "# Details can be found in explore.py.\n",
    "\n",
    "plot_planetary_radius(train)"
   ]
  },
  {
   "cell_type": "markdown",
   "id": "ffa4e9e8-6729-4418-90df-bbae16e50626",
   "metadata": {},
   "source": [
    "We see here that the average planetary radius for false positive observations is significantly greater than that of confirmed exoplanets. This is almost certainly because larger objects will be some type of star.\n",
    "\n",
    "Let's now confirm this finding with a statistical test. Here we will perform a two sample t-test where the two samples are false positive observations and confirmed exoplanet observations. We will test to determine if the average planetary radius for false positives is significantly greater than that of confirmed exoplanets. The hypothesis we'll be testing is the following:\n",
    "\n",
    "$H_0$: The average planetary radius for false positives is equal to the average planetary radius for confirmed exoplanets.\n",
    "<br>\n",
    "$H_a$: The average planetary radius for false positives is greater than the average planetary radius for confirmed exoplanets."
   ]
  },
  {
   "cell_type": "code",
   "execution_count": 7,
   "id": "45e6d86d-2f5a-4e4e-816f-4f0aabbd6552",
   "metadata": {},
   "outputs": [
    {
     "name": "stdout",
     "output_type": "stream",
     "text": [
      "Reject H0\n"
     ]
    }
   ],
   "source": [
    "# Here we conduct a two sample t-test between the planetary radius for each sample.\n",
    "# We'll use the alternative 'greater' to perform a one tailed test to determine if the average planetary radius \n",
    "# for the first sample is significantly greater than the average planetary radius for the second sample.\n",
    "# Details can be found in explore.py or explore.ipynb.\n",
    "\n",
    "two_sample_ttest(train[false_positives], train[confirmed], feature = 'planetary_radius', alternative = 'greater')"
   ]
  },
  {
   "cell_type": "markdown",
   "id": "c2025e4e-a075-4424-847e-fa45dd308e49",
   "metadata": {},
   "source": [
    "The result is that we reject the null hypothesis indicating that the average planetary radius for false positives is significantly greater than the average planetary radius for confirmed exoplanets.\n",
    "\n",
    "### Do observations with a false positive disposition have greater transit depth than confirmed exoplanets?\n",
    "\n",
    "Transit depth refers to the fraction of stellar flux lost at the minimum of planetary transit. In other words when the object of interest transits the observed star how much does the light intensity decrease."
   ]
  },
  {
   "cell_type": "code",
   "execution_count": 8,
   "id": "7ff01954-0453-4dcf-9224-dc4bb390e081",
   "metadata": {},
   "outputs": [
    {
     "data": {
      "image/png": "[encoded data removed]",
      "text/plain": [
       "<Figure size 1008x288 with 1 Axes>"
      ]
     },
     "metadata": {
      "needs_background": "light"
     },
     "output_type": "display_data"
    }
   ],
   "source": [
    "# Here we will plot the average transit depth for false positive observations and confirmed exoplanet observations.\n",
    "# Details can be found in explore.py.\n",
    "\n",
    "plot_transit_depth(train)"
   ]
  },
  {
   "cell_type": "markdown",
   "id": "2bec6e98-2d85-4ab6-9f02-2e7bc88b37c3",
   "metadata": {},
   "source": [
    "This is related to the planetary radius. The larger a transiting object is the more stellar flux will be lost.\n",
    "\n",
    "Let's now confirm this finding with a statistical test. Here we will perform a two sample t-test where the two samples are false positive observations and confirmed exoplanet observations. We will test to determine if the average transit depth for false positives is significantly greater than that of confirmed exoplanets. The hypothesis we'll be testing is the following:\n",
    "\n",
    "$H_0$: The average transit depth for false positives is equal to the average transit depth for confirmed exoplanets.\n",
    "<br>\n",
    "$H_a$: The average transit depth for false positives is greater than the average transit depth for confirmed exoplanets."
   ]
  },
  {
   "cell_type": "code",
   "execution_count": 9,
   "id": "373b3018-25e9-43b8-b3af-64e7dd275df5",
   "metadata": {},
   "outputs": [
    {
     "name": "stdout",
     "output_type": "stream",
     "text": [
      "Reject H0\n"
     ]
    }
   ],
   "source": [
    "# Here we conduct a two sample t-test between the transit depth for each sample.\n",
    "# We'll use the alternative 'greater' to perform a one tailed test to determine if the average transit depth \n",
    "# for the first sample is significantly greater than the average transit depth for the second sample.\n",
    "# Details can be found in explore.py or explore.ipynb.\n",
    "\n",
    "two_sample_ttest(train[false_positives], train[confirmed], feature = 'transit_depth', alternative = 'greater')"
   ]
  },
  {
   "cell_type": "markdown",
   "id": "2b7af4d0-431a-4adf-851d-1016c5cf2bae",
   "metadata": {},
   "source": [
    "The result is that we reject the null hypothesis indicating that the average transit depth for false positives is significantly greater than the average transit depth for confirmed exoplanets.\n",
    "\n",
    "### Is there a significant difference in transit duration between false positives and confirmed exoplanets?"
   ]
  },
  {
   "cell_type": "code",
   "execution_count": 10,
   "id": "942796bc-f350-4e63-b54f-2cb83c6eac4e",
   "metadata": {},
   "outputs": [
    {
     "data": {
      "image/png": "[encoded data removed]",
      "text/plain": [
       "<Figure size 1008x288 with 2 Axes>"
      ]
     },
     "metadata": {
      "needs_background": "light"
     },
     "output_type": "display_data"
    }
   ],
   "source": [
    "# Here we will plot the distributions of transit duration for false positives and confirmed exoplanets.\n",
    "# On the left is a chart that contains the distributions with outliers removed. On the right is a chart \n",
    "# that contains the distributions for only outliers.\n",
    "# Details can be found in explore.py.\n",
    "\n",
    "plot_transit_duration(train)"
   ]
  },
  {
   "cell_type": "markdown",
   "id": "da92168d-248e-45ff-8e8b-d1a2af35511b",
   "metadata": {},
   "source": [
    "The transit duration could be related to planetary radius. The larger an object is the longer it takes to transit the host star. However, it could also be related to orbital period. The further away from the host star an object is the longer it will take to transit. In either case we can see that there may be some difference in transit duration between false positive observations and confirmed exoplanet observations.\n",
    "\n",
    "We can test if there is a significant different with a statistical test. Here we will perform a two sample t-test where the two samples are false positive observations and confirmed exoplanet observations. We will test to determine if the average transit duration between the two groups is significantly different. The hypothesis we'll be testing is the following:\n",
    "\n",
    "$H_0$: The average transit duration for false positives is equal to the average transit duration for confirmed exoplanets.\n",
    "<br>\n",
    "$H_a$: The average transit duration for false positives is not equal to the average transit duration for confirmed exoplanets."
   ]
  },
  {
   "cell_type": "code",
   "execution_count": 11,
   "id": "56e8c7b1-906f-4dce-9d92-8642451388dc",
   "metadata": {},
   "outputs": [
    {
     "name": "stdout",
     "output_type": "stream",
     "text": [
      "Reject H0\n"
     ]
    }
   ],
   "source": [
    "# Here we conduct a two sample t-test between the orbital period for each sample.\n",
    "# Details can be found in explore.py or explore.ipynb.\n",
    "\n",
    "two_sample_ttest(train[false_positives], train[confirmed], feature = 'transit_duration')"
   ]
  },
  {
   "cell_type": "markdown",
   "id": "5de86201-6281-42a6-b631-bc658eece7f6",
   "metadata": {},
   "source": [
    "The result is that we reject the null hypothesis indicating that there is a significant difference in transit duration between false positive observations and confirmed exoplanets.\n",
    "\n",
    "### Exploration Takeaways and Summary\n",
    "\n",
    "The features orbital period, planetary radius, transit depth, and transit duration all showed significant distinctions between false positives and confirmed exoplanets when plotted against the target variable. Additionally, the features normalized depth and approximate planetary temperature also showed significant distinctions between false positives and confirmed exoplanets, but are not shown here (details on these two features can be found in explore.ipynb). All statistics tests executed confirmed that there were significant differences in values between the two groups for each feature. For this reason we move forward into modeling with these features.\n",
    "\n",
    "These weren't the only features analyzed. Many other features were analyzed and discovered to not have significant distinctions between the two groups being analyzed. Also some features were discovered to leak information about the target and for this reason could be used in further exploration or modeling.\n",
    "\n",
    "There is further analysis that can be done. For instance, it was also discovered that there may be distinct groups when looking at features such as transit duration, orbital period, and transit depth. There wasn't enough time to look more deeply into these insights, but it's something to look into given more time to analyze the data."
   ]
  },
  {
   "cell_type": "markdown",
   "id": "f3921249-c6ed-40ab-bc53-adefe9459824",
   "metadata": {},
   "source": [
    "---\n",
    "\n",
    "## Modeling\n",
    "\n",
    "In the modeling phase many different models were created to find the best model to predict the exoplanet disposition. Various machine learning algorithms were used with a variety of hyper-parameters. Also different numbers of features were used to determine if the number of features would change the performance of a model. In total 158 different models were produced and evaluated. For brevity, below we'll show only a few of the best performers.\n",
    "\n",
    "In this project we primarily use accuracy to measure the performance of our models since there is a fairly even split between false positives and confirmed exoplanets. In the case when two models have similar accuracy the precision score will help break the tie since we want to be sure of our positive predictions. When an observation is predicted as a confirmed exoplanet this would reasonably lead to prioritizing analysis of that object to verify the prediction. We want to be sure that this time spent analyzing an object will not be for nothing.\n",
    "\n",
    "Additionally, since we are interested primarily in identifying confirmed exoplanets more than false positive dispositions, the disposition of CONFIRMED will be our positive label.\n",
    "\n",
    "### Establishing a Baseline\n",
    "\n",
    "First a baseline model must be established. This model will be used to compare with the models we produce. This is the simplest model we can create which will simply predict the most common value of the target variable."
   ]
  },
  {
   "cell_type": "code",
   "execution_count": 12,
   "id": "34ecff58-5296-489b-b602-f54cad204394",
   "metadata": {},
   "outputs": [
    {
     "data": {
      "text/html": [
       "<div>\n",
       "<style scoped>\n",
       "    .dataframe tbody tr th:only-of-type {\n",
       "        vertical-align: middle;\n",
       "    }\n",
       "\n",
       "    .dataframe tbody tr th {\n",
       "        vertical-align: top;\n",
       "    }\n",
       "\n",
       "    .dataframe thead th {\n",
       "        text-align: right;\n",
       "    }\n",
       "</style>\n",
       "<table border=\"1\" class=\"dataframe\">\n",
       "  <thead>\n",
       "    <tr style=\"text-align: right;\">\n",
       "      <th></th>\n",
       "      <th>train_accuracy</th>\n",
       "      <th>train_recall</th>\n",
       "      <th>train_precision</th>\n",
       "      <th>validate_accuracy</th>\n",
       "      <th>validate_recall</th>\n",
       "      <th>validate_precision</th>\n",
       "    </tr>\n",
       "  </thead>\n",
       "  <tbody>\n",
       "    <tr>\n",
       "      <th>Baseline</th>\n",
       "      <td>0.62</td>\n",
       "      <td>0.0</td>\n",
       "      <td>0.0</td>\n",
       "      <td>0.62</td>\n",
       "      <td>0.0</td>\n",
       "      <td>0.0</td>\n",
       "    </tr>\n",
       "  </tbody>\n",
       "</table>\n",
       "</div>"
      ],
      "text/plain": [
       "          train_accuracy  train_recall  train_precision  validate_accuracy  \\\n",
       "Baseline            0.62           0.0              0.0               0.62   \n",
       "\n",
       "          validate_recall  validate_precision  \n",
       "Baseline              0.0                 0.0  "
      ]
     },
     "execution_count": 12,
     "metadata": {},
     "output_type": "execute_result"
    }
   ],
   "source": [
    "# Here we'll establish the baseline model and evaluate its performance.\n",
    "\n",
    "evaluate_dataframe = establish_baseline(train, validate, target = 'disposition')\n",
    "evaluate_dataframe"
   ]
  },
  {
   "cell_type": "markdown",
   "id": "8c2d72a1-6440-465d-960d-05c8f42cff52",
   "metadata": {},
   "source": [
    "### Create Some Models\n",
    "\n",
    "Now with a baseline model established we can create some models. As mentioned before, here we'll only produce a few of the models that were produced when going through this project."
   ]
  },
  {
   "cell_type": "code",
   "execution_count": 13,
   "id": "81d6ca4c-8f64-405f-ba41-92dfe961c491",
   "metadata": {},
   "outputs": [],
   "source": [
    "# Here we'll produce four different models, a decision tree, and three variations of a gradient boosting \n",
    "# classifier. The first gradient boosting varient uses hyper-parameters loss equals exponential and \n",
    "# n_estimators equals 300 with the features orbital period and planetary radius. The second variant uses \n",
    "# the same hyper-parameters with the features orbital period, planetary radius, normalized depth, transit \n",
    "# depth, and transit duration. The other two model use default hyper-parameters with the features orbital \n",
    "# period and planetary radius.\n",
    "\n",
    "# We also need to use the scaled data here.\n",
    "\n",
    "models = create_and_train_models(train_scaled, target = 'disposition')"
   ]
  },
  {
   "cell_type": "code",
   "execution_count": 14,
   "id": "2e1a536f-bdfd-4a01-b510-4c002f2e78aa",
   "metadata": {},
   "outputs": [
    {
     "data": {
      "text/html": [
       "<div>\n",
       "<style scoped>\n",
       "    .dataframe tbody tr th:only-of-type {\n",
       "        vertical-align: middle;\n",
       "    }\n",
       "\n",
       "    .dataframe tbody tr th {\n",
       "        vertical-align: top;\n",
       "    }\n",
       "\n",
       "    .dataframe thead th {\n",
       "        text-align: right;\n",
       "    }\n",
       "</style>\n",
       "<table border=\"1\" class=\"dataframe\">\n",
       "  <thead>\n",
       "    <tr style=\"text-align: right;\">\n",
       "      <th></th>\n",
       "      <th>train_accuracy</th>\n",
       "      <th>train_recall</th>\n",
       "      <th>train_precision</th>\n",
       "      <th>validate_accuracy</th>\n",
       "      <th>validate_recall</th>\n",
       "      <th>validate_precision</th>\n",
       "    </tr>\n",
       "  </thead>\n",
       "  <tbody>\n",
       "    <tr>\n",
       "      <th>Gradient Boosting Variant 2</th>\n",
       "      <td>0.95</td>\n",
       "      <td>0.95</td>\n",
       "      <td>0.92</td>\n",
       "      <td>0.90</td>\n",
       "      <td>0.88</td>\n",
       "      <td>0.85</td>\n",
       "    </tr>\n",
       "    <tr>\n",
       "      <th>Gradient Boosting Classifier</th>\n",
       "      <td>0.87</td>\n",
       "      <td>0.87</td>\n",
       "      <td>0.80</td>\n",
       "      <td>0.84</td>\n",
       "      <td>0.81</td>\n",
       "      <td>0.78</td>\n",
       "    </tr>\n",
       "    <tr>\n",
       "      <th>Gradient Boosting Variant 1</th>\n",
       "      <td>0.90</td>\n",
       "      <td>0.90</td>\n",
       "      <td>0.84</td>\n",
       "      <td>0.84</td>\n",
       "      <td>0.80</td>\n",
       "      <td>0.79</td>\n",
       "    </tr>\n",
       "    <tr>\n",
       "      <th>Decision Tree</th>\n",
       "      <td>0.84</td>\n",
       "      <td>0.90</td>\n",
       "      <td>0.74</td>\n",
       "      <td>0.83</td>\n",
       "      <td>0.88</td>\n",
       "      <td>0.73</td>\n",
       "    </tr>\n",
       "    <tr>\n",
       "      <th>Baseline</th>\n",
       "      <td>0.62</td>\n",
       "      <td>0.00</td>\n",
       "      <td>0.00</td>\n",
       "      <td>0.62</td>\n",
       "      <td>0.00</td>\n",
       "      <td>0.00</td>\n",
       "    </tr>\n",
       "  </tbody>\n",
       "</table>\n",
       "</div>"
      ],
      "text/plain": [
       "                              train_accuracy  train_recall  train_precision  \\\n",
       "Gradient Boosting Variant 2             0.95          0.95             0.92   \n",
       "Gradient Boosting Classifier            0.87          0.87             0.80   \n",
       "Gradient Boosting Variant 1             0.90          0.90             0.84   \n",
       "Decision Tree                           0.84          0.90             0.74   \n",
       "Baseline                                0.62          0.00             0.00   \n",
       "\n",
       "                              validate_accuracy  validate_recall  \\\n",
       "Gradient Boosting Variant 2                0.90             0.88   \n",
       "Gradient Boosting Classifier               0.84             0.81   \n",
       "Gradient Boosting Variant 1                0.84             0.80   \n",
       "Decision Tree                              0.83             0.88   \n",
       "Baseline                                   0.62             0.00   \n",
       "\n",
       "                              validate_precision  \n",
       "Gradient Boosting Variant 2                 0.85  \n",
       "Gradient Boosting Classifier                0.78  \n",
       "Gradient Boosting Variant 1                 0.79  \n",
       "Decision Tree                               0.73  \n",
       "Baseline                                    0.00  "
      ]
     },
     "execution_count": 14,
     "metadata": {},
     "output_type": "execute_result"
    }
   ],
   "source": [
    "# Now we'll evaluate the models on train and validate.\n",
    "# Again we need the scaled data.\n",
    "\n",
    "for name, model in models.items():\n",
    "    evaluate_dataframe = evaluate_model(model, name, train_scaled, validate_scaled, 'disposition', evaluate_dataframe)\n",
    "    \n",
    "# We want to see the results sorted descending by validate accuracy. We're interested in seeing how the \n",
    "# models perform on unseen data.\n",
    "    \n",
    "evaluate_dataframe.sort_values(by = 'validate_accuracy', ascending = False)"
   ]
  },
  {
   "cell_type": "markdown",
   "id": "1789b0b5-0d02-4fc7-a294-fa9119e972d0",
   "metadata": {},
   "source": [
    "The gradient boosting classifier with hyper-parameters loss equals \"exponential\" and n_estimators = 300, with features orbital period, planetary radius, normalized depth, transit depth, and transit duration, had the best performance on unseen data for both accuracy and precision. Let's now evaluate this model on the test dataset."
   ]
  },
  {
   "cell_type": "code",
   "execution_count": 17,
   "id": "9bf23283-5371-4b48-9a1a-28aeaecf8273",
   "metadata": {},
   "outputs": [
    {
     "data": {
      "text/html": [
       "<div>\n",
       "<style scoped>\n",
       "    .dataframe tbody tr th:only-of-type {\n",
       "        vertical-align: middle;\n",
       "    }\n",
       "\n",
       "    .dataframe tbody tr th {\n",
       "        vertical-align: top;\n",
       "    }\n",
       "\n",
       "    .dataframe thead th {\n",
       "        text-align: right;\n",
       "    }\n",
       "</style>\n",
       "<table border=\"1\" class=\"dataframe\">\n",
       "  <thead>\n",
       "    <tr style=\"text-align: right;\">\n",
       "      <th></th>\n",
       "      <th>test_accuracy</th>\n",
       "      <th>test_recall</th>\n",
       "      <th>test_precision</th>\n",
       "    </tr>\n",
       "  </thead>\n",
       "  <tbody>\n",
       "    <tr>\n",
       "      <th>Gradient Boosting Variant 2</th>\n",
       "      <td>0.89</td>\n",
       "      <td>0.89</td>\n",
       "      <td>0.82</td>\n",
       "    </tr>\n",
       "  </tbody>\n",
       "</table>\n",
       "</div>"
      ],
      "text/plain": [
       "                             test_accuracy  test_recall  test_precision\n",
       "Gradient Boosting Variant 2           0.89         0.89            0.82"
      ]
     },
     "execution_count": 17,
     "metadata": {},
     "output_type": "execute_result"
    }
   ],
   "source": [
    "# Here we'll evaluate the best model on the test dataset. We'll use the scaled data again.\n",
    "\n",
    "append_results(\n",
    "    'Gradient Boosting Variant 2',\n",
    "    evaluate(\n",
    "        target = test_scaled.disposition,\n",
    "        prediction = models['Gradient Boosting Variant 2'].make_predictions(test_scaled),\n",
    "        positive_label = 'CONFIRMED',\n",
    "        prefix = 'test_'\n",
    "    )\n",
    ")"
   ]
  },
  {
   "cell_type": "markdown",
   "id": "5ee2e71f-7fc5-414b-9bc9-22f26ac4a4a1",
   "metadata": {},
   "source": [
    "The best model has nearly 90% percent accuracy on unseen with just a small drop off in performance compared to the train dataset accuracy meaning the model is not overfit."
   ]
  },
  {
   "cell_type": "markdown",
   "id": "fc331f31-09a9-4f9e-86cf-de01a8b60e1e",
   "metadata": {},
   "source": [
    "## Key Takeaways and Conclusion\n",
    "\n",
    "After producing a large variety of models for predicting the exoplanet archive disposition of an observed object of interest, or in other words predicting whether or not a transiting object is likely to be an exoplanet, I was able to produce a model that could accurately predict disposition on unseen data with nearly 90% accuracy. Reaching this goal involved analyzing the Kepler Exoplanet Archive data to determine which attributes are most closely related to the disposition.\n",
    "\n",
    "Several features, such as orbital period, planetary radius, normalized depth, transit depth, transit duration, and temperature, were discovered to be significant for predicting whether an observation is a false positive or a confirmed exoplanet. Statistical tests confirmed that there were significant differences in these values between the two groups in the data.\n",
    "\n",
    "Some features in the data were discovered to leak information about disposition. These features were avoided in further exploration and modeling in order to ensure that the models produced would be robust to newly obtained observations.\n",
    "\n",
    "This model could be used as a means of prioritizing which Kepler observations would be most likely to be confirmed exoplanets upon further observation. \n",
    "\n",
    "## Next Steps\n",
    "\n",
    "Given more time I would like to analyze additional features in the data. For some features, such as planet number, I originally determined it would not be useful to explore, but realized later that I may have been wrong in that assumption. Additionally, I would like to more deeply analyze other features I determined as not being useful to the project goals. For instance, I determined many features, such as errors in measurements, would not be useful, but I would like to take the time to verify this analytically.\n",
    "\n",
    "I also believe that there is great potential in imputing missing values, or otherwise keeping observations that were dropped in preparation, in order to have more observations to analyze.\n",
    "\n",
    "Many models were produced, but I believe there is opportunity to produce different varieties of models, that were not pursued initially, that could potentially provide better results. I also did not have an opportunity to try training the models with outliers removed which is another strategy that could be pursued.\n",
    "\n",
    "Finally, with more time I would do further research into the data and how it is collected in order to ensure that work done here would in fact be robust to newly obtained observations. There are also many features that are available through the NASA API that could potentially provide more insights into the exoplanet data."
   ]
  }
 ],
 "metadata": {
  "kernelspec": {
   "display_name": "Python 3 (ipykernel)",
   "language": "python",
   "name": "python3"
  },
  "language_info": {
   "codemirror_mode": {
    "name": "ipython",
    "version": 3
   },
   "file_extension": ".py",
   "mimetype": "text/x-python",
   "name": "python",
   "nbconvert_exporter": "python",
   "pygments_lexer": "ipython3",
   "version": "3.9.7"
  }
 },
 "nbformat": 4,
 "nbformat_minor": 5
}
